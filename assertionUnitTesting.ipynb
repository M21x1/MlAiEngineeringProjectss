{
 "cells": [
  {
   "cell_type": "code",
   "execution_count": 1,
   "id": "19114db3",
   "metadata": {},
   "outputs": [
    {
     "name": "stdout",
     "output_type": "stream",
     "text": [
      "Welcome to Small World Airlines!\n",
      "What is the airport code of your travel destination?\n"
     ]
    },
    {
     "ename": "AssertionError",
     "evalue": "Sorry, Small World currently does not fly to this destination!",
     "output_type": "error",
     "traceback": [
      "\u001b[31m---------------------------------------------------------------------------\u001b[39m",
      "\u001b[31mAssertionError\u001b[39m                            Traceback (most recent call last)",
      "\u001b[36mCell\u001b[39m\u001b[36m \u001b[39m\u001b[32mIn[1]\u001b[39m\u001b[32m, line 12\u001b[39m\n\u001b[32m      8\u001b[39m destination = \u001b[33m'\u001b[39m\u001b[33mHND\u001b[39m\u001b[33m'\u001b[39m\n\u001b[32m     11\u001b[39m \u001b[38;5;66;03m# Write your code below: \u001b[39;00m\n\u001b[32m---> \u001b[39m\u001b[32m12\u001b[39m \u001b[38;5;28;01massert\u001b[39;00m destination \u001b[38;5;129;01min\u001b[39;00m destinations, \u001b[33m'\u001b[39m\u001b[33mSorry, Small World currently does not fly to this destination!\u001b[39m\u001b[33m'\u001b[39m\n\u001b[32m     14\u001b[39m city_name = destinations[destination]\n\u001b[32m     15\u001b[39m \u001b[38;5;28mprint\u001b[39m(\u001b[33m'\u001b[39m\u001b[33mGreat! Retrieving information for your flight to ...\u001b[39m\u001b[33m'\u001b[39m + city_name)\n",
      "\u001b[31mAssertionError\u001b[39m: Sorry, Small World currently does not fly to this destination!"
     ]
    }
   ],
   "source": [
    "destinations = {\n",
    "  'BUD': 'Budapest',\n",
    "  'CMN': 'Casablanca',\n",
    "  'IST': 'Istanbul'\n",
    "}\n",
    "print('Welcome to Small World Airlines!')\n",
    "print('What is the airport code of your travel destination?')\n",
    "destination = 'HND'\n",
    "\n",
    "\n",
    "# Write your code below: \n",
    "assert destination in destinations, 'Sorry, Small World currently does not fly to this destination!'\n",
    "\n",
    "city_name = destinations[destination]\n",
    "print('Great! Retrieving information for your flight to ...' + city_name)\n",
    "\n"
   ]
  },
  {
   "cell_type": "code",
   "execution_count": 2,
   "id": "219212ae",
   "metadata": {},
   "outputs": [],
   "source": [
    "def get_nearest_exit(row_number):\n",
    "  if row_number < 15:\n",
    "    location = 'front'\n",
    "  elif row_number < 30:\n",
    "    location = 'middle'\n",
    "  else:\n",
    "    # Checkpoint 5\n",
    "    location = 'back'\n",
    "  return location\n",
    "\n",
    "# Checkpoint 1\n",
    "def test_row_1():\n",
    "  assert get_nearest_exit(1) == 'front', 'The nearest exit to row 1 is in the front!'\n",
    "\n",
    "# Checkpoint 2 \n",
    "def test_row_20():\n",
    "  assert get_nearest_exit(20) == 'middle', 'The nearest exit to row 20 is in the middle!'\n",
    "\n",
    "#Checkpoint 3\n",
    "def test_row_40():\n",
    "  assert get_nearest_exit(40) == 'back', 'The nearest exit to row 40 is in the back!'\n",
    "\n",
    "# Checkpoint 4\n",
    "test_row_1()\n",
    "test_row_20()\n",
    "test_row_40()"
   ]
  },
  {
   "cell_type": "code",
   "execution_count": 8,
   "id": "7e1f1720",
   "metadata": {},
   "outputs": [],
   "source": [
    "# Checkpoint 1\n",
    "import unittest\n",
    "\n",
    "def get_nearest_exit(row_number):\n",
    "  if row_number < 15:\n",
    "    location = 'front'\n",
    "  elif row_number < 30:\n",
    "    location = 'middle'\n",
    "  else:\n",
    "    # Checkpoint 6\n",
    "    location = 'middle' # 'middle' / 'back'\n",
    "  return location\n",
    "\n",
    "# Checkpoint 2\n",
    "class NearestExitTests(unittest.TestCase):\n",
    "  # Checkpoint 3\n",
    "  def test_row_1(self):\n",
    "    self.assertEqual(get_nearest_exit(1), 'front', 'The nearest exit to row 1 is in the front!')\n",
    "    \n",
    "  # Checkpoint 3\n",
    "  def test_row_20(self):\n",
    "    self.assertEqual(get_nearest_exit(20), 'middle', 'The nearest exit to row 20 is in the middle!')\n",
    "    \n",
    "  # Checkpoint 3\n",
    "  def test_row_40(self):\n",
    "    self.assertEqual(get_nearest_exit(40), 'back', 'The nearest exit to row 40 is in the back!')\n",
    "\n",
    "# Checkpoint 4\n",
    "#unittest.main()"
   ]
  },
  {
   "cell_type": "code",
   "execution_count": 9,
   "id": "bb27c53a",
   "metadata": {},
   "outputs": [
    {
     "name": "stderr",
     "output_type": "stream",
     "text": [
      "usage: ipykernel_launcher.py [-h] [-v] [-q] [--locals] [--durations N] [-f]\n",
      "                             [-c] [-b] [-k TESTNAMEPATTERNS]\n",
      "                             [tests ...]\n",
      "ipykernel_launcher.py: error: argument -f/--failfast: ignored explicit argument 'c:\\\\Users\\\\LENOVO\\\\AppData\\\\Roaming\\\\jupyter\\\\runtime\\\\kernel-v3fe967360ac3104d22e07e2a9557d7647933f9721.json'\n"
     ]
    },
    {
     "ename": "SystemExit",
     "evalue": "2",
     "output_type": "error",
     "traceback": [
      "An exception has occurred, use %tb to see the full traceback.\n",
      "\u001b[31mSystemExit\u001b[39m\u001b[31m:\u001b[39m 2\n"
     ]
    },
    {
     "name": "stderr",
     "output_type": "stream",
     "text": [
      "C:\\Users\\LENOVO\\AppData\\Local\\Packages\\PythonSoftwareFoundation.Python.3.12_qbz5n2kfra8p0\\LocalCache\\local-packages\\Python312\\site-packages\\IPython\\core\\interactiveshell.py:3675: UserWarning: To exit: use 'exit', 'quit', or Ctrl-D.\n",
      "  warn(\"To exit: use 'exit', 'quit', or Ctrl-D.\", stacklevel=1)\n"
     ]
    }
   ],
   "source": [
    "import unittest\n",
    "import entertainment\n",
    "\n",
    "# Write your code below: \n",
    "class EntertainmentSystemTests(unittest.TestCase):\n",
    "\n",
    "  def test_movie_license(self):\n",
    "    daily_movie = entertainment.get_daily_movie()\n",
    "    licensed_movies = entertainment.get_licensed_movies()\n",
    "\n",
    "    self.assertIn(daily_movie, licensed_movies)\n",
    "\n",
    "\n",
    "  def test_wifi_status(self):\n",
    "    wifi_enabled = entertainment.get_wifi_status()\n",
    "    self.assertTrue(wifi_enabled)\n",
    "\n",
    "\n",
    "unittest.main()\n"
   ]
  },
  {
   "cell_type": "code",
   "execution_count": 10,
   "id": "197ec8cb",
   "metadata": {},
   "outputs": [
    {
     "name": "stderr",
     "output_type": "stream",
     "text": [
      "usage: ipykernel_launcher.py [-h] [-v] [-q] [--locals] [--durations N] [-f]\n",
      "                             [-c] [-b] [-k TESTNAMEPATTERNS]\n",
      "                             [tests ...]\n",
      "ipykernel_launcher.py: error: argument -f/--failfast: ignored explicit argument 'c:\\\\Users\\\\LENOVO\\\\AppData\\\\Roaming\\\\jupyter\\\\runtime\\\\kernel-v3fe967360ac3104d22e07e2a9557d7647933f9721.json'\n"
     ]
    },
    {
     "ename": "SystemExit",
     "evalue": "2",
     "output_type": "error",
     "traceback": [
      "An exception has occurred, use %tb to see the full traceback.\n",
      "\u001b[31mSystemExit\u001b[39m\u001b[31m:\u001b[39m 2\n"
     ]
    }
   ],
   "source": [
    "import unittest\n",
    "import entertainment\n",
    "\n",
    "class EntertainmentSystemTests(unittest.TestCase):\n",
    "\n",
    "  def test_movie_license(self):\n",
    "    daily_movie = entertainment.get_daily_movie()\n",
    "    licensed_movies = entertainment.get_licensed_movies()\n",
    "    self.assertIn(daily_movie, licensed_movies)\n",
    "\n",
    "  def test_wifi_status(self):\n",
    "    wifi_enabled = entertainment.get_wifi_status()\n",
    "    self.assertTrue(wifi_enabled)\n",
    "\n",
    "  # Write your code below:\n",
    "  def test_maximum_display_brightness(self):\n",
    "    brightness = entertainment.get_maximum_display_brightness()\n",
    "    self.assertAlmostEqual(brightness, 400)\n",
    "  \n",
    "  def test_device_temperature(self):\n",
    "    device_temp = entertainment.get_device_temp()\n",
    "    self.assertLess(device_temp, 35)\n",
    "  \n",
    "\n",
    "unittest.main()"
   ]
  }
 ],
 "metadata": {
  "kernelspec": {
   "display_name": "Python 3",
   "language": "python",
   "name": "python3"
  },
  "language_info": {
   "codemirror_mode": {
    "name": "ipython",
    "version": 3
   },
   "file_extension": ".py",
   "mimetype": "text/x-python",
   "name": "python",
   "nbconvert_exporter": "python",
   "pygments_lexer": "ipython3",
   "version": "3.12.10"
  }
 },
 "nbformat": 4,
 "nbformat_minor": 5
}
