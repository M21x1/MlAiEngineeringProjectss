{
 "cells": [
  {
   "cell_type": "markdown",
   "id": "36730db2",
   "metadata": {},
   "source": [
    "## Exceptions\n",
    "\n",
    "different than syntax errors"
   ]
  },
  {
   "cell_type": "code",
   "execution_count": 1,
   "id": "717ec2d0",
   "metadata": {},
   "outputs": [
    {
     "name": "stdout",
     "output_type": "stream",
     "text": [
      "The price of a Marimba is 1999\n",
      "The price of a Flute is 899\n"
     ]
    },
    {
     "ename": "KeyError",
     "evalue": "'Piano is not found in instrument catalog!'",
     "output_type": "error",
     "traceback": [
      "\u001b[31m---------------------------------------------------------------------------\u001b[39m",
      "\u001b[31mKeyError\u001b[39m                                  Traceback (most recent call last)",
      "\u001b[36mCell\u001b[39m\u001b[36m \u001b[39m\u001b[32mIn[1]\u001b[39m\u001b[32m, line 16\u001b[39m\n\u001b[32m     14\u001b[39m print_instrument_price(\u001b[33m'\u001b[39m\u001b[33mMarimba\u001b[39m\u001b[33m'\u001b[39m)\n\u001b[32m     15\u001b[39m print_instrument_price(\u001b[33m'\u001b[39m\u001b[33mFlute\u001b[39m\u001b[33m'\u001b[39m)\n\u001b[32m---> \u001b[39m\u001b[32m16\u001b[39m \u001b[43mprint_instrument_price\u001b[49m\u001b[43m(\u001b[49m\u001b[33;43m'\u001b[39;49m\u001b[33;43mPiano\u001b[39;49m\u001b[33;43m'\u001b[39;49m\u001b[43m)\u001b[49m\n",
      "\u001b[36mCell\u001b[39m\u001b[36m \u001b[39m\u001b[32mIn[1]\u001b[39m\u001b[32m, line 12\u001b[39m, in \u001b[36mprint_instrument_price\u001b[39m\u001b[34m(instrument)\u001b[39m\n\u001b[32m     10\u001b[39m   \u001b[38;5;28mprint\u001b[39m(\u001b[33m'\u001b[39m\u001b[33mThe price of a \u001b[39m\u001b[33m'\u001b[39m + instrument + \u001b[33m'\u001b[39m\u001b[33m is \u001b[39m\u001b[33m'\u001b[39m + \u001b[38;5;28mstr\u001b[39m(instrument_catalog[instrument]))\n\u001b[32m     11\u001b[39m \u001b[38;5;28;01melse\u001b[39;00m:\n\u001b[32m---> \u001b[39m\u001b[32m12\u001b[39m   \u001b[38;5;28;01mraise\u001b[39;00m \u001b[38;5;167;01mKeyError\u001b[39;00m(instrument + \u001b[33m'\u001b[39m\u001b[33m is not found in instrument catalog!\u001b[39m\u001b[33m'\u001b[39m)\n",
      "\u001b[31mKeyError\u001b[39m: 'Piano is not found in instrument catalog!'"
     ]
    }
   ],
   "source": [
    "instrument_catalog = {\n",
    "  'Marimba': 1999,\n",
    "  'Kora': 499,\n",
    "  'Flute': 899\n",
    "}\n",
    "\n",
    "def print_instrument_price(instrument):\n",
    "  # Write your code below:\n",
    "  if instrument in instrument_catalog:\n",
    "    print('The price of a ' + instrument + ' is ' + str(instrument_catalog[instrument]))\n",
    "  else:\n",
    "    raise KeyError(instrument + ' is not found in instrument catalog!')\n",
    "\n",
    "print_instrument_price('Marimba')\n",
    "print_instrument_price('Flute')\n",
    "print_instrument_price('Piano')\n"
   ]
  },
  {
   "cell_type": "code",
   "execution_count": 2,
   "id": "cbf999f0",
   "metadata": {},
   "outputs": [
    {
     "name": "stdout",
     "output_type": "stream",
     "text": [
      "Instrument World Austin has:\n",
      "5 sales employees\n",
      "1 floor managers\n",
      "The ratio of sales people to managers is 5.0\n",
      "\n",
      "Could not print sales report for Melbourne\n",
      "Instrument World Beijing has:\n",
      "5 sales employees\n",
      "2 floor managers\n",
      "The ratio of sales people to managers is 2.5\n",
      "\n"
     ]
    }
   ],
   "source": [
    "staff = {\n",
    "  'Austin': {\n",
    "      'floor managers': 1,\n",
    "      'sales associates': 5\n",
    "  },\n",
    "  'Melbourne': {\n",
    "      'floor managers': 0,\n",
    "      'sales associates': 8\n",
    "  },\n",
    "  'Beijing': {\n",
    "      'floor managers': 2,\n",
    "      'sales associates': 5\n",
    "  },\n",
    "}\n",
    "\n",
    "  \n",
    "def print_staff_report(location, staff_dict):\n",
    "  managers = staff_dict['floor managers']\n",
    "  sales_people = staff_dict['sales associates']\n",
    "  ratio = sales_people / managers\n",
    "  print('Instrument World ' + location + ' has:')\n",
    "  print(str(sales_people) + ' sales employees')\n",
    "  print(str(managers) + ' floor managers')\n",
    "  print('The ratio of sales people to managers is ' + str(ratio))\n",
    "  print()\n",
    "\n",
    "for location, staff in staff.items():\n",
    "  # Write your code below:\n",
    "  try:\n",
    "    print_staff_report(location, staff)\n",
    "  except:\n",
    "    print('Could not print sales report for ' + location)\n"
   ]
  },
  {
   "cell_type": "code",
   "execution_count": 3,
   "id": "015d3126",
   "metadata": {},
   "outputs": [
    {
     "name": "stdout",
     "output_type": "stream",
     "text": [
      "Discount percentage must be a number!\n"
     ]
    }
   ],
   "source": [
    "instrument_prices = {\n",
    "  'Banjo': 200,\n",
    "  'Cello': 1000,\n",
    "  'Flute': 100,\n",
    "}\n",
    "\n",
    "def display_discounted_price(instrument, discount):\n",
    "  full_price = instrument_prices[instrument]\n",
    "  discount_percentage = discount / 100\n",
    "  discounted_price = full_price - (full_price * discount_percentage)\n",
    "  print(\"The instrument's discounted price is: \" + str(discounted_price))\n",
    "\n",
    "instrument = 'Banjo' #Clarinet\n",
    "discount = '20'\n",
    "\n",
    "# Write your code below:\n",
    "try:\n",
    "  display_discounted_price(instrument, discount)\n",
    "except KeyError:\n",
    "  print('An invalid instrument was entered!')\n",
    "except TypeError:\n",
    "  print('Discount percentage must be a number!')\n",
    "except Exception:\n",
    "  print('Hit an exception other than KeyError or TypeError!')\n",
    "\n"
   ]
  },
  {
   "cell_type": "code",
   "execution_count": 1,
   "id": "dcedcd06",
   "metadata": {},
   "outputs": [
    {
     "name": "stdout",
     "output_type": "stream",
     "text": [
      "Rewards account number is: 17849\n"
     ]
    }
   ],
   "source": [
    "customer_rewards = {\n",
    "  'Zoltan': 82570,\n",
    "  'Guadalupe': 29850,\n",
    "  'Mario': 17849\n",
    "}\n",
    "\n",
    "def display_rewards_account(customer):\n",
    "  # Write your code below:\n",
    "  try:\n",
    "    rewards_number = customer_rewards[customer]\n",
    "  except KeyError:\n",
    "    print('Customer was not found in rewards program!')\n",
    "  else:\n",
    "    print('Rewards account number is: ' + str(rewards_number))\n",
    "\n",
    "\n",
    "customer = 'Mario' #Zuigly\n",
    "display_rewards_account(customer)\n"
   ]
  },
  {
   "cell_type": "code",
   "execution_count": 8,
   "id": "51056be3",
   "metadata": {},
   "outputs": [
    {
     "name": "stdout",
     "output_type": "stream",
     "text": [
      "Establishing connection to instrument database server...\n",
      "Instrument: Kora\n",
      "Family: Strings\n",
      "Origin: West Africa\n",
      "Kora\n",
      "Destroying connection to instrument database server...\n"
     ]
    }
   ],
   "source": [
    "import importlib\n",
    "import database123 \n",
    "importlib.reload(database123)\n",
    "\n",
    "instrument = 'Kora' #Synthesizer\n",
    "database123.connect_to_database()\n",
    "\n",
    "try:\n",
    "  database123.display_instrument_info(instrument)\n",
    "except KeyError:\n",
    "  print('Oh no! This instrument does not exist.')\n",
    "else:\n",
    "  print(instrument)\n",
    "# Write your code below: \n",
    "finally:\n",
    "  database123.disconnect_from_database()"
   ]
  },
  {
   "cell_type": "code",
   "execution_count": 9,
   "id": "3e389ed3",
   "metadata": {},
   "outputs": [
    {
     "ename": "InventoryError",
     "evalue": "",
     "output_type": "error",
     "traceback": [
      "\u001b[31m---------------------------------------------------------------------------\u001b[39m",
      "\u001b[31mInventoryError\u001b[39m                            Traceback (most recent call last)",
      "\u001b[36mCell\u001b[39m\u001b[36m \u001b[39m\u001b[32mIn[9]\u001b[39m\u001b[32m, line 28\u001b[39m\n\u001b[32m     26\u001b[39m instrument = \u001b[33m'\u001b[39m\u001b[33mPiano\u001b[39m\u001b[33m'\u001b[39m\n\u001b[32m     27\u001b[39m quantity = \u001b[32m5\u001b[39m\n\u001b[32m---> \u001b[39m\u001b[32m28\u001b[39m \u001b[43msubmit_order\u001b[49m\u001b[43m(\u001b[49m\u001b[43minstrument\u001b[49m\u001b[43m,\u001b[49m\u001b[43m \u001b[49m\u001b[43mquantity\u001b[49m\u001b[43m)\u001b[49m\n",
      "\u001b[36mCell\u001b[39m\u001b[36m \u001b[39m\u001b[32mIn[9]\u001b[39m\u001b[32m, line 18\u001b[39m, in \u001b[36msubmit_order\u001b[39m\u001b[34m(instrument, quantity)\u001b[39m\n\u001b[32m     16\u001b[39m \u001b[38;5;66;03m# Write your code below (Checkpoint 3 & 4): \u001b[39;00m\n\u001b[32m     17\u001b[39m \u001b[38;5;28;01mif\u001b[39;00m quantity > supply:\n\u001b[32m---> \u001b[39m\u001b[32m18\u001b[39m   \u001b[38;5;28;01mraise\u001b[39;00m InventoryError\n\u001b[32m     19\u001b[39m \u001b[38;5;28;01melse\u001b[39;00m:\n\u001b[32m     20\u001b[39m   inventory[instrument] -= quantity\n",
      "\u001b[31mInventoryError\u001b[39m: "
     ]
    }
   ],
   "source": [
    "inventory = {\n",
    "  'Piano': 3,\n",
    "  'Lute': 1,\n",
    "  'Sitar': 2\n",
    "}\n",
    "\n",
    "\n",
    "#Write your code below (Checkpoint 2):\n",
    "class InventoryError(Exception):\n",
    "  pass\n",
    "\n",
    "\n",
    "def submit_order(instrument, quantity):\n",
    "  supply = inventory[instrument]\n",
    "  \n",
    "  # Write your code below (Checkpoint 3 & 4): \n",
    "  if quantity > supply:\n",
    "    raise InventoryError\n",
    "  else:\n",
    "    inventory[instrument] -= quantity\n",
    "    print('Successfully placed order! Remaining supply: ' + str(inventory[instrument]))\n",
    "\n",
    "  \n",
    "\n",
    "\n",
    "instrument = 'Piano'\n",
    "quantity = 5\n",
    "submit_order(instrument, quantity)"
   ]
  },
  {
   "cell_type": "code",
   "execution_count": 10,
   "id": "be289bcb",
   "metadata": {},
   "outputs": [
    {
     "ename": "InventoryError",
     "evalue": "Available supply is only 3",
     "output_type": "error",
     "traceback": [
      "\u001b[31m---------------------------------------------------------------------------\u001b[39m",
      "\u001b[31mInventoryError\u001b[39m                            Traceback (most recent call last)",
      "\u001b[36mCell\u001b[39m\u001b[36m \u001b[39m\u001b[32mIn[10]\u001b[39m\u001b[32m, line 27\u001b[39m\n\u001b[32m     25\u001b[39m instrument = \u001b[33m'\u001b[39m\u001b[33mPiano\u001b[39m\u001b[33m'\u001b[39m\n\u001b[32m     26\u001b[39m quantity = \u001b[32m5\u001b[39m\n\u001b[32m---> \u001b[39m\u001b[32m27\u001b[39m \u001b[43msubmit_order\u001b[49m\u001b[43m(\u001b[49m\u001b[43minstrument\u001b[49m\u001b[43m,\u001b[49m\u001b[43m \u001b[49m\u001b[43mquantity\u001b[49m\u001b[43m)\u001b[49m\n",
      "\u001b[36mCell\u001b[39m\u001b[36m \u001b[39m\u001b[32mIn[10]\u001b[39m\u001b[32m, line 20\u001b[39m, in \u001b[36msubmit_order\u001b[39m\u001b[34m(instrument, quantity)\u001b[39m\n\u001b[32m     18\u001b[39m \u001b[38;5;66;03m# Write your code below (Checkpoint 3)\u001b[39;00m\n\u001b[32m     19\u001b[39m \u001b[38;5;28;01mif\u001b[39;00m quantity > supply:\n\u001b[32m---> \u001b[39m\u001b[32m20\u001b[39m   \u001b[38;5;28;01mraise\u001b[39;00m InventoryError(supply)\n\u001b[32m     21\u001b[39m \u001b[38;5;28;01melse\u001b[39;00m:\n\u001b[32m     22\u001b[39m   inventory[instrument] -= quantity\n",
      "\u001b[31mInventoryError\u001b[39m: Available supply is only 3"
     ]
    }
   ],
   "source": [
    "# Write your code below (Checkpoint 1 & 2)\n",
    "class InventoryError(Exception):\n",
    "  def __init__(self, supply):\n",
    "    self.supply = supply\n",
    "  \n",
    "  def __str__(self):\n",
    "    return 'Available supply is only ' + str(self.supply)\n",
    "  \n",
    "\n",
    "inventory = {\n",
    "  'Piano': 3,\n",
    "  'Lute': 1,\n",
    "  'Sitar': 2\n",
    "}\n",
    "\n",
    "def submit_order(instrument, quantity):\n",
    "  supply = inventory[instrument]\n",
    "  # Write your code below (Checkpoint 3)\n",
    "  if quantity > supply:\n",
    "    raise InventoryError(supply)\n",
    "  else:\n",
    "    inventory[instrument] -= quantity\n",
    "    print('Successfully placed order! Remaining supply: ' + str(inventory[instrument]))\n",
    "\n",
    "instrument = 'Piano'\n",
    "quantity = 5\n",
    "submit_order(instrument, quantity)\n"
   ]
  },
  {
   "cell_type": "code",
   "execution_count": 11,
   "id": "7e544704",
   "metadata": {},
   "outputs": [
    {
     "name": "stdout",
     "output_type": "stream",
     "text": [
      "Oh no a type error!\n"
     ]
    }
   ],
   "source": [
    "instrument_familes = {\n",
    "  'Strings': ['Guitar', 'Banjo', 'Sitar'],\n",
    "  'Percussion': ['Conga', 'Cymbal', 'Cajon'],\n",
    "  'woodwinds': ['Flute', 'Oboe', 'Clarinet']\n",
    "}\n",
    "\n",
    "def print_instrument_families():\n",
    "  for family in ['Strings', 'Percussion', 'woodwinds']:\n",
    "     print('Some instruments in the ' + family + ' family are: ' + instrument_familes[family])\n",
    "\n",
    "try:\n",
    "  print_instrument_families()\n",
    "except SyntaxError:\n",
    "  print(\"You got a syntax error\")\n",
    "except NameError:\n",
    "  print(\"you got a name error\")\n",
    "except TypeError:\n",
    "  print(\"Oh no a type error!\")\n"
   ]
  }
 ],
 "metadata": {
  "kernelspec": {
   "display_name": "Python 3",
   "language": "python",
   "name": "python3"
  },
  "language_info": {
   "codemirror_mode": {
    "name": "ipython",
    "version": 3
   },
   "file_extension": ".py",
   "mimetype": "text/x-python",
   "name": "python",
   "nbconvert_exporter": "python",
   "pygments_lexer": "ipython3",
   "version": "3.12.10"
  }
 },
 "nbformat": 4,
 "nbformat_minor": 5
}
