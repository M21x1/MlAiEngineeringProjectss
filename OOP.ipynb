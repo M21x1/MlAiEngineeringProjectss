{
 "cells": [
  {
   "cell_type": "markdown",
   "id": "4af36aed",
   "metadata": {},
   "source": [
    "## Intro    "
   ]
  },
  {
   "cell_type": "code",
   "execution_count": 1,
   "id": "bf02b5ff",
   "metadata": {},
   "outputs": [],
   "source": [
    "class Dog:\n",
    "  sound = \"Woof\"\n",
    "\n",
    "  def __init__(self, name, age):\n",
    "    self.name = name\n",
    "    self.age = age\n",
    "\n",
    "  def bark(self):\n",
    "    print(Dog.sound)\n"
   ]
  },
  {
   "cell_type": "code",
   "execution_count": 2,
   "id": "f86397bc",
   "metadata": {},
   "outputs": [
    {
     "name": "stdout",
     "output_type": "stream",
     "text": [
      "My id is 1\n"
     ]
    }
   ],
   "source": [
    "class Employee:\n",
    "  new_id = 1\n",
    "\n",
    "  def __init__(self):\n",
    "    self.id = Employee.new_id\n",
    "    Employee.new_id += 1\n",
    "  \n",
    "  def say_id(self):\n",
    "    print(f\"My id is {self.id}\")\n",
    "  \n",
    "  \n",
    "\n",
    "e1 = Employee()\n",
    "e2 = Employee()\n",
    "\n",
    "e1.say_id()\n",
    "    \n"
   ]
  },
  {
   "cell_type": "markdown",
   "id": "f2b3dec1",
   "metadata": {},
   "source": [
    "### Inheritance"
   ]
  },
  {
   "cell_type": "code",
   "execution_count": 3,
   "id": "57a77396",
   "metadata": {},
   "outputs": [
    {
     "name": "stdout",
     "output_type": "stream",
     "text": [
      "My id is 3.\n"
     ]
    }
   ],
   "source": [
    "class Employee():\n",
    "  new_id = 1\n",
    "  def __init__(self):\n",
    "    self.id = Employee.new_id\n",
    "    Employee.new_id += 1\n",
    "\n",
    "  def say_id(self):\n",
    "    print(\"My id is {}.\".format(self.id))\n",
    "\n",
    "# Write your code below\n",
    "class Admin(Employee):\n",
    "  pass\n",
    "\n",
    "e1 = Employee()\n",
    "e2 = Employee()\n",
    "e3 = Admin()\n",
    "e3.say_id()\n"
   ]
  },
  {
   "cell_type": "markdown",
   "id": "7f344dad",
   "metadata": {},
   "source": [
    "### Overriding methods"
   ]
  },
  {
   "cell_type": "code",
   "execution_count": 4,
   "id": "783ab0ae",
   "metadata": {},
   "outputs": [
    {
     "name": "stdout",
     "output_type": "stream",
     "text": [
      "I am an Admin\n",
      "I am an Admin\n"
     ]
    }
   ],
   "source": [
    "class Employee():\n",
    "  new_id = 1\n",
    "  def __init__(self):\n",
    "    self.id = Employee.new_id\n",
    "    Employee.new_id += 1\n",
    "\n",
    "  def say_id(self):\n",
    "    print(\"My id is {}.\".format(self.id))\n",
    "\n",
    "class Admin(Employee):\n",
    "  # Write your code below\n",
    "  def say_id(self):\n",
    "    print(\"I am an Admin\")\n",
    "\n",
    "e1 = Employee()\n",
    "e2 = Employee()\n",
    "e3 = Admin()\n",
    "e3.say_id()\n",
    "\n",
    "class Employee():\n",
    "  new_id = 1\n",
    "  def __init__(self):\n",
    "    self.id = Employee.new_id\n",
    "    Employee.new_id += 1\n",
    "\n",
    "  def say_id(self):\n",
    "    print(\"My id is {}.\".format(self.id))\n",
    "\n",
    "class Admin(Employee):\n",
    "  # Write your code below\n",
    "  def say_id(self):\n",
    "    print(\"I am an Admin\")\n",
    "\n",
    "e1 = Employee()\n",
    "e2 = Employee()\n",
    "e3 = Admin()\n",
    "e3.say_id()\n"
   ]
  },
  {
   "cell_type": "markdown",
   "id": "5f5f31e7",
   "metadata": {},
   "source": [
    "#### Super()"
   ]
  },
  {
   "cell_type": "code",
   "execution_count": 5,
   "id": "5bfdb137",
   "metadata": {},
   "outputs": [
    {
     "name": "stdout",
     "output_type": "stream",
     "text": [
      "My id is 3.\n",
      "I am an admin.\n"
     ]
    }
   ],
   "source": [
    "class Employee():\n",
    "  new_id = 1\n",
    "  def __init__(self):\n",
    "    self.id = Employee.new_id\n",
    "    Employee.new_id += 1\n",
    "\n",
    "  def say_id(self):\n",
    "    print(\"My id is {}.\".format(self.id))\n",
    "\n",
    "class Admin(Employee):\n",
    "  def say_id(self):\n",
    "    # Write your code below:\n",
    "    super().say_id()\n",
    "    \n",
    "    print(\"I am an admin.\")\n",
    "\n",
    "e1 = Employee()\n",
    "e2 = Employee()\n",
    "e3 = Admin()\n",
    "e3.say_id()\n"
   ]
  },
  {
   "cell_type": "markdown",
   "id": "8e881d8a",
   "metadata": {},
   "source": [
    "### Multiple Inheritance"
   ]
  },
  {
   "cell_type": "markdown",
   "id": "dee8a254",
   "metadata": {},
   "source": [
    "#### Part1"
   ]
  },
  {
   "cell_type": "code",
   "execution_count": 6,
   "id": "dc365fee",
   "metadata": {},
   "outputs": [
    {
     "name": "stdout",
     "output_type": "stream",
     "text": [
      "Mr. Cranky says, Hi!\n"
     ]
    }
   ],
   "source": [
    "class Animal:\n",
    "  def __init__(self, name):\n",
    "    self.name = name\n",
    " \n",
    "  def say_hi(self):\n",
    "    print(\"{} says, Hi!\".format(self.name))\n",
    "\n",
    "class Cat(Animal):\n",
    "  pass\n",
    "\n",
    "class Angry_Cat(Cat):\n",
    "  pass\n",
    "\n",
    "my_pet = Angry_Cat(\"Mr. Cranky\")\n",
    "my_pet.say_hi() # Mr. Cranky says, Hi!\n"
   ]
  },
  {
   "cell_type": "code",
   "execution_count": 7,
   "id": "0af3310f",
   "metadata": {},
   "outputs": [
    {
     "name": "stdout",
     "output_type": "stream",
     "text": [
      "I am in charge.\n",
      "My id is 4.\n",
      "I am an admin.\n"
     ]
    }
   ],
   "source": [
    "class Employee():\n",
    "  new_id = 1\n",
    "  def __init__(self):\n",
    "    self.id = Employee.new_id\n",
    "    Employee.new_id += 1\n",
    "\n",
    "  def say_id(self):\n",
    "    print(\"My id is {}.\".format(self.id))\n",
    "\n",
    "class Admin(Employee):\n",
    "  def say_id(self):\n",
    "    super().say_id()\n",
    "    print(\"I am an admin.\")\n",
    " \n",
    "# Write your code below\n",
    "class Manager(Admin):\n",
    "  def say_id(self):\n",
    "    print(\"I am in charge.\")\n",
    "    super().say_id()\n",
    "\n",
    "e1 = Employee()\n",
    "e2 = Employee()\n",
    "e3 = Admin()\n",
    "e4 = Manager()\n",
    "e4.say_id()\n"
   ]
  },
  {
   "cell_type": "markdown",
   "id": "d495c0e3",
   "metadata": {},
   "source": [
    "#### Part2"
   ]
  },
  {
   "cell_type": "code",
   "execution_count": 8,
   "id": "ba3a2bf7",
   "metadata": {},
   "outputs": [
    {
     "name": "stdout",
     "output_type": "stream",
     "text": [
      "Fluffy wags tail. Awwww\n",
      "Fluffy bites. OUCH!\n"
     ]
    }
   ],
   "source": [
    "class Animal:\n",
    "  def __init__(self, name):\n",
    "    self.name = name\n",
    "\n",
    "class Dog(Animal):\n",
    "  def action(self):\n",
    "    print(\"{} wags tail. Awwww\".format(self.name))\n",
    "\n",
    "class Wolf(Animal):\n",
    "  def action(self):\n",
    "    print(\"{} bites. OUCH!\".format(self.name))\n",
    "\n",
    "class Hybrid(Dog, Wolf):\n",
    "  def action(self):\n",
    "    super().action()\n",
    "    Wolf.action(self)\n",
    "\n",
    "my_pet = Hybrid(\"Fluffy\")\n",
    "my_pet.action() # Fluffy wags tail. Awwww\n",
    "                # Fluffy bites. OUCH!\n",
    "\n"
   ]
  },
  {
   "cell_type": "code",
   "execution_count": 10,
   "id": "d205ee2a",
   "metadata": {},
   "outputs": [
    {
     "name": "stdout",
     "output_type": "stream",
     "text": [
      "My username is 3\n",
      "My role is Admin\n"
     ]
    }
   ],
   "source": [
    "class Employee():\n",
    "  new_id = 1\n",
    "  def __init__(self):\n",
    "    self.id = Employee.new_id\n",
    "    Employee.new_id += 1\n",
    "\n",
    "  def say_id(self):\n",
    "    print(\"My id is {}.\".format(self.id))\n",
    "\n",
    "class User:\n",
    "  def __init__(self, username, role=\"Customer\"):\n",
    "    self.username = username\n",
    "    self.role = role\n",
    "\n",
    "  def say_user_info(self):\n",
    "    print(\"My username is {}\".format(self.username))\n",
    "    print(\"My role is {}\".format(self.role))\n",
    "\n",
    "# Write your code below\n",
    "class Admin(Employee, User):\n",
    "  def __init__(self):\n",
    "    super().__init__()\n",
    "    User.__init__(self, self.id, \"Admin\")\n",
    "\n",
    "  def say_id(self):\n",
    "    super().say_id()\n",
    "    print(\"I am an admin.\")\n",
    "\n",
    "e1 = Employee()\n",
    "e2 = Employee()\n",
    "e3 = Admin()\n",
    "e3.say_user_info()\n",
    "\n"
   ]
  },
  {
   "cell_type": "markdown",
   "id": "48f603e9",
   "metadata": {},
   "source": [
    "## Polymorphism"
   ]
  },
  {
   "cell_type": "code",
   "execution_count": 11,
   "id": "8f784889",
   "metadata": {},
   "outputs": [],
   "source": [
    "class Animal:\n",
    "  def __init__(self, name):\n",
    "    self.name = name\n",
    "\n",
    "  def make_noise(self):\n",
    "    print(\"{} says, Grrrr\".format(self.name))\n",
    "\n",
    "class Cat(Animal):\n",
    "\n",
    "  def make_noise(self):\n",
    "    print(\"{} says, Meow!\".format(self.name))\n",
    "\n",
    "class Robot:\n",
    "  \n",
    "  def make_noise(self):\n",
    "    print(\"beep.boop...BEEEEP!!!\")\n"
   ]
  },
  {
   "cell_type": "code",
   "execution_count": 12,
   "id": "32879755",
   "metadata": {},
   "outputs": [
    {
     "name": "stdout",
     "output_type": "stream",
     "text": [
      "My id is 1.\n",
      "My id is 2.\n",
      "I am an admin.\n",
      "My id is 3.\n",
      "I am an admin.\n",
      "I am in charge!\n"
     ]
    }
   ],
   "source": [
    "class Employee():\n",
    "  new_id = 1\n",
    "  def __init__(self):\n",
    "    self.id = Employee.new_id\n",
    "    Employee.new_id += 1\n",
    "\n",
    "  def say_id(self):\n",
    "    print(\"My id is {}.\".format(self.id))\n",
    "\n",
    "class Admin(Employee):\n",
    "  def say_id(self):\n",
    "    super().say_id()\n",
    "    print(\"I am an admin.\")\n",
    "\n",
    "class Manager(Admin):\n",
    "  def say_id(self):\n",
    "    super().say_id()\n",
    "    print(\"I am in charge!\")\n",
    "\n",
    "# Write your code below\n",
    "emp = Employee()\n",
    "admini = Admin()\n",
    "managi = Manager()\n",
    "\n",
    "meeting = [emp, admini, managi]\n",
    "\n",
    "for i in meeting:\n",
    "  i.say_id()\n"
   ]
  },
  {
   "cell_type": "markdown",
   "id": "63178ad0",
   "metadata": {},
   "source": [
    "## Dunder methods"
   ]
  },
  {
   "cell_type": "code",
   "execution_count": 13,
   "id": "d76a77df",
   "metadata": {},
   "outputs": [
    {
     "name": "stdout",
     "output_type": "stream",
     "text": [
      "Horse\n",
      "Penguin\n",
      "HorsePenguin\n"
     ]
    }
   ],
   "source": [
    "class Animal:\n",
    "  def __init__(self, name):\n",
    "    self.name = name\n",
    "\n",
    "  def __repr__(self):\n",
    "    return self.name\n",
    "\n",
    "  def __add__(self, another_animal):\n",
    "    return Animal(self.name + another_animal.name)\n",
    "\n",
    "a1 = Animal(\"Horse\")\n",
    "a2 = Animal(\"Penguin\")\n",
    "a3 = a1 + a2\n",
    "print(a1) # Prints \"Horse\"\n",
    "print(a2) # Prints \"Penguin\"\n",
    "print(a3) # Prints \"HorsePenguin\"\n"
   ]
  },
  {
   "cell_type": "code",
   "execution_count": 14,
   "id": "dffb0b1a",
   "metadata": {},
   "outputs": [
    {
     "name": "stdout",
     "output_type": "stream",
     "text": [
      "ID 1 added.\n",
      "ID 2 added.\n",
      "ID 3 added.\n",
      "3\n"
     ]
    }
   ],
   "source": [
    "class Employee():\n",
    "  new_id = 1\n",
    "  def __init__(self):\n",
    "    self.id = Employee.new_id\n",
    "    Employee.new_id += 1\n",
    "\n",
    "class Meeting:\n",
    "  def __init__(self):\n",
    "    self.attendees = []\n",
    "  \n",
    "  def __add__(self, employee):\n",
    "    print(\"ID {} added.\".format(employee.id))\n",
    "    self.attendees.append(employee)\n",
    "  # Write your code\n",
    "  def __len__(self):\n",
    "    return len(self.attendees)\n",
    "  \n",
    "    \n",
    "e1 = Employee()\n",
    "e2 = Employee()\n",
    "e3 = Employee()\n",
    "m1 = Meeting()\n",
    "\n",
    "m1 + e1\n",
    "m1 + e2\n",
    "m1 + e3\n",
    "\n",
    "print(len(m1))\n"
   ]
  },
  {
   "cell_type": "markdown",
   "id": "5942294d",
   "metadata": {},
   "source": [
    "## Abstraction"
   ]
  },
  {
   "cell_type": "code",
   "execution_count": 15,
   "id": "7bf09a3c",
   "metadata": {},
   "outputs": [
    {
     "name": "stdout",
     "output_type": "stream",
     "text": [
      "Maisy says, Meow!\n",
      "Amber says, Woof!\n"
     ]
    }
   ],
   "source": [
    "from abc import ABC, abstractmethod\n",
    "\n",
    "class Animal(ABC):\n",
    "  def __init__(self, name):\n",
    "    self.name = name\n",
    "\n",
    "  @abstractmethod\n",
    "  def make_noise(self):\n",
    "    pass\n",
    "\n",
    "class Cat(Animal):\n",
    "  def make_noise(self):\n",
    "    print(\"{} says, Meow!\".format(self.name))\n",
    "\n",
    "class Dog(Animal):\n",
    "  def make_noise(self):\n",
    "    print(\"{} says, Woof!\".format(self.name))\n",
    "\n",
    "kitty = Cat(\"Maisy\")\n",
    "doggy = Dog(\"Amber\")\n",
    "kitty.make_noise() # \"Maisy says, Meow!\"\n",
    "doggy.make_noise() # \"Amber says, Woof!\"\n",
    "\n"
   ]
  },
  {
   "cell_type": "code",
   "execution_count": 16,
   "id": "f627949d",
   "metadata": {},
   "outputs": [
    {
     "name": "stdout",
     "output_type": "stream",
     "text": [
      "The ID is 1\n"
     ]
    }
   ],
   "source": [
    "from abc import ABC, abstractmethod\n",
    "\n",
    "class AbstractEmployee(ABC):\n",
    "  new_id = 1\n",
    "  def __init__(self):\n",
    "    self.id = AbstractEmployee.new_id\n",
    "    AbstractEmployee.new_id += 1\n",
    "\n",
    "  @abstractmethod\n",
    "  def say_id(self):\n",
    "    pass\n",
    "\n",
    "# Write your code below\n",
    "class Employee(AbstractEmployee):\n",
    "    def say_id(self):\n",
    "      print(\"The ID is {}\".format(self.id))\n",
    "\n",
    "e1 = Employee()\n",
    "e1.say_id()\n"
   ]
  },
  {
   "cell_type": "markdown",
   "id": "000d7107",
   "metadata": {},
   "source": [
    "## Encapsulation"
   ]
  },
  {
   "cell_type": "code",
   "execution_count": 18,
   "id": "6e8bdfb4",
   "metadata": {},
   "outputs": [
    {
     "name": "stdout",
     "output_type": "stream",
     "text": [
      "None\n",
      "10\n"
     ]
    },
    {
     "ename": "TypeError",
     "evalue": "",
     "output_type": "error",
     "traceback": [
      "\u001b[31m---------------------------------------------------------------------------\u001b[39m",
      "\u001b[31mTypeError\u001b[39m                                 Traceback (most recent call last)",
      "\u001b[36mCell\u001b[39m\u001b[36m \u001b[39m\u001b[32mIn[18]\u001b[39m\u001b[32m, line 26\u001b[39m\n\u001b[32m     23\u001b[39m a.set_age(\u001b[32m10\u001b[39m)\n\u001b[32m     24\u001b[39m \u001b[38;5;28mprint\u001b[39m(a.get_age()) \u001b[38;5;66;03m# 10\u001b[39;00m\n\u001b[32m---> \u001b[39m\u001b[32m26\u001b[39m \u001b[43ma\u001b[49m\u001b[43m.\u001b[49m\u001b[43mset_age\u001b[49m\u001b[43m(\u001b[49m\u001b[33;43m\"\u001b[39;49m\u001b[33;43mTen\u001b[39;49m\u001b[33;43m\"\u001b[39;49m\u001b[43m)\u001b[49m \u001b[38;5;66;03m# Raises a TypeError\u001b[39;00m\n\u001b[32m     28\u001b[39m a.delete_age() \u001b[38;5;66;03m# \"_age Deleted\"\u001b[39;00m\n\u001b[32m     29\u001b[39m \u001b[38;5;28mprint\u001b[39m(a.get_age()) \u001b[38;5;66;03m# Raises a AttributeError\u001b[39;00m\n",
      "\u001b[36mCell\u001b[39m\u001b[36m \u001b[39m\u001b[32mIn[18]\u001b[39m\u001b[32m, line 13\u001b[39m, in \u001b[36mAnimal.set_age\u001b[39m\u001b[34m(self, new_age)\u001b[39m\n\u001b[32m     11\u001b[39m   \u001b[38;5;28mself\u001b[39m._age = new_age\n\u001b[32m     12\u001b[39m \u001b[38;5;28;01melse\u001b[39;00m:\n\u001b[32m---> \u001b[39m\u001b[32m13\u001b[39m   \u001b[38;5;28;01mraise\u001b[39;00m \u001b[38;5;167;01mTypeError\u001b[39;00m\n",
      "\u001b[31mTypeError\u001b[39m: "
     ]
    }
   ],
   "source": [
    "class Animal:\n",
    "  def __init__(self, name):\n",
    "    self._name = name\n",
    "    self._age = None\n",
    "\n",
    "  def get_age(self):\n",
    "    return self._age\n",
    "\n",
    "  def set_age(self, new_age):\n",
    "    if isinstance(new_age, int):\n",
    "      self._age = new_age\n",
    "    else:\n",
    "      raise TypeError\n",
    "\n",
    "  def delete_age(self):\n",
    "    del self._age\n",
    "    print(\"_age Deleted\")\n",
    "\n",
    "\n",
    "a = Animal(\"Rufus\")\n",
    "print(a.get_age()) # None\n",
    "\n",
    "a.set_age(10)\n",
    "print(a.get_age()) # 10\n",
    "\n",
    "a.set_age(\"Ten\") # Raises a TypeError\n",
    "\n",
    "a.delete_age() # \"_age Deleted\"\n",
    "print(a.get_age()) # Raises a AttributeError\n"
   ]
  },
  {
   "cell_type": "code",
   "execution_count": 19,
   "id": "32fdfeb9",
   "metadata": {},
   "outputs": [
    {
     "name": "stdout",
     "output_type": "stream",
     "text": [
      "Maisy\n",
      "Fluffy\n"
     ]
    },
    {
     "ename": "AttributeError",
     "evalue": "'Employee' object has no attribute '_name'",
     "output_type": "error",
     "traceback": [
      "\u001b[31m---------------------------------------------------------------------------\u001b[39m",
      "\u001b[31mAttributeError\u001b[39m                            Traceback (most recent call last)",
      "\u001b[36mCell\u001b[39m\u001b[36m \u001b[39m\u001b[32mIn[19]\u001b[39m\u001b[32m, line 31\u001b[39m\n\u001b[32m     28\u001b[39m \u001b[38;5;28mprint\u001b[39m(e2.get_name())\n\u001b[32m     30\u001b[39m e2.del_name()\n\u001b[32m---> \u001b[39m\u001b[32m31\u001b[39m \u001b[38;5;28mprint\u001b[39m(\u001b[43me2\u001b[49m\u001b[43m.\u001b[49m\u001b[43mget_name\u001b[49m\u001b[43m(\u001b[49m\u001b[43m)\u001b[49m)\n",
      "\u001b[36mCell\u001b[39m\u001b[36m \u001b[39m\u001b[32mIn[19]\u001b[39m\u001b[32m, line 10\u001b[39m, in \u001b[36mEmployee.get_name\u001b[39m\u001b[34m(self)\u001b[39m\n\u001b[32m      9\u001b[39m \u001b[38;5;28;01mdef\u001b[39;00m\u001b[38;5;250m \u001b[39m\u001b[34mget_name\u001b[39m(\u001b[38;5;28mself\u001b[39m):\n\u001b[32m---> \u001b[39m\u001b[32m10\u001b[39m   \u001b[38;5;28;01mreturn\u001b[39;00m \u001b[38;5;28;43mself\u001b[39;49m\u001b[43m.\u001b[49m\u001b[43m_name\u001b[49m\n",
      "\u001b[31mAttributeError\u001b[39m: 'Employee' object has no attribute '_name'"
     ]
    }
   ],
   "source": [
    "class Employee():\n",
    "  new_id = 1\n",
    "  def __init__(self, name=None):\n",
    "    self.id = Employee.new_id\n",
    "    Employee.new_id += 1\n",
    "    self._name = name\n",
    "\n",
    "  # Write your code below\n",
    "  def get_name(self):\n",
    "    return self._name\n",
    "  \n",
    "  def set_name(self, new_name):\n",
    "    self._name = new_name\n",
    "\n",
    "  def del_name(self):\n",
    "    del self._name\n",
    "  \n",
    "\n",
    "e1 = Employee(\"Maisy\")\n",
    "e2 = Employee()\n",
    "\n",
    "\n",
    "e1 = Employee(\"Maisy\")\n",
    "e2 = Employee()\n",
    "print(e1.get_name())\n",
    "\n",
    "e2.set_name(\"Fluffy\")\n",
    "print(e2.get_name())\n",
    "\n",
    "e2.del_name()\n",
    "print(e2.get_name())\n"
   ]
  }
 ],
 "metadata": {
  "kernelspec": {
   "display_name": "Python 3",
   "language": "python",
   "name": "python3"
  },
  "language_info": {
   "codemirror_mode": {
    "name": "ipython",
    "version": 3
   },
   "file_extension": ".py",
   "mimetype": "text/x-python",
   "name": "python",
   "nbconvert_exporter": "python",
   "pygments_lexer": "ipython3",
   "version": "3.12.10"
  }
 },
 "nbformat": 4,
 "nbformat_minor": 5
}
