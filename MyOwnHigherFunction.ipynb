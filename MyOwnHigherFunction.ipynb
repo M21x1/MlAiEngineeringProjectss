{
 "cells": [
  {
   "cell_type": "code",
   "execution_count": 1,
   "id": "ceebb2bf",
   "metadata": {},
   "outputs": [
    {
     "name": "stdout",
     "output_type": "stream",
     "text": [
      "7\n",
      "632281.405\n"
     ]
    }
   ],
   "source": [
    "import csv\n",
    "from functools import reduce\n",
    "\n",
    "def count(predicate, itr):\n",
    "  # task 1\n",
    "  count_filter = filter(predicate, itr)\n",
    "  # task 2\n",
    "  count_reduce = reduce(lambda x, y: x + 1, count_filter, 0)\n",
    "  return count_reduce\n",
    "\n",
    "def average(itr):\n",
    "  iterable = iter(itr)\n",
    "  # task 8\n",
    "  return avg_helper(0, iterable, 0)\n",
    "\n",
    "# task 3\n",
    "def avg_helper(curr_count, itr, curr_sum): \n",
    "  # task 4\n",
    "  next_num = next(itr, \"null\")\n",
    "  # task 5\n",
    "  if next_num == \"null\": \n",
    "    return curr_sum/curr_count\n",
    "  curr_count += 1 \n",
    "  # task 4\n",
    "  curr_sum += next_num\n",
    "  # task 6\n",
    "  return avg_helper(curr_count, itr, curr_sum)\n",
    "\n",
    "\n",
    "with open('data/1kSalesRec.csv.txt', newline = '') as csvfile:\n",
    "  reader = csv.reader(csvfile, delimiter=',', quotechar='|')\n",
    "  fields = next(reader)\n",
    "  # task 9\n",
    "  count_belgium = count(lambda x: x[1] == \"Belgium\", reader)\n",
    "  print(count_belgium)\n",
    "  csvfile.seek(0)\n",
    "  # task 10\n",
    "  avg_portugal = average(map(lambda x: float(x[13]),filter(lambda x: x[1] == \"Portugal\", reader)))\n",
    "  print(avg_portugal)"
   ]
  }
 ],
 "metadata": {
  "kernelspec": {
   "display_name": "Python 3",
   "language": "python",
   "name": "python3"
  },
  "language_info": {
   "codemirror_mode": {
    "name": "ipython",
    "version": 3
   },
   "file_extension": ".py",
   "mimetype": "text/x-python",
   "name": "python",
   "nbconvert_exporter": "python",
   "pygments_lexer": "ipython3",
   "version": "3.12.10"
  }
 },
 "nbformat": 4,
 "nbformat_minor": 5
}
