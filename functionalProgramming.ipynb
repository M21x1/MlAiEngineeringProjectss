{
 "cells": [
  {
   "cell_type": "markdown",
   "id": "45173aa6",
   "metadata": {},
   "source": [
    "## Functional Programming\n",
    "\n",
    "- Pure functions\n",
    "- First class functions\n",
    "- No side effects\n",
    "- Lazy evaluation\n",
    "- Recursion\n",
    "- Statelessness\n",
    "- Immutable data"
   ]
  },
  {
   "cell_type": "code",
   "execution_count": 2,
   "id": "9316c7a4",
   "metadata": {},
   "outputs": [],
   "source": [
    "# TUPLESS\n",
    "\n",
    "from collections import namedtuple\n",
    "\n",
    "# Checkpoint 1 code goes here.\n",
    "country = namedtuple(\"country\", [\"name\", \"capital\", \"continent\"])\n",
    "# Checkpoint 2 code goes here.\n",
    "France = country(\"France\", \"Paris\", \"Europe\")\n",
    "Japan = country(\"Japan\", \"Tokyo\", \"Asia\")\n",
    "Senegal = country(\"Senegal\", \"Dakar\", \"Africa\")\n",
    "# Checkpoint 3 code goes here.\n",
    "\n",
    "countries = (France, Japan, Senegal)\n"
   ]
  },
  {
   "cell_type": "code",
   "execution_count": 3,
   "id": "14a58bc4",
   "metadata": {},
   "outputs": [
    {
     "name": "stdout",
     "output_type": "stream",
     "text": [
      "25\n"
     ]
    }
   ],
   "source": [
    "# LAMBDAS\n",
    "\n",
    "\"\"\" \n",
    "def squared(x):\n",
    "  return x * x\n",
    "\n",
    "def cubed(x):\n",
    "  return x*x*x\n",
    "\"\"\"\n",
    "def odd_or_even(n, even_function, odd_function):\n",
    "  # pass Remove this statement for Checkpoint 1.\n",
    "  if n % 2 == 0:\n",
    "    return even_function(n)\n",
    "  else:\n",
    "    return odd_function(n)\n",
    "\n",
    "# Checkpoint 2 code goes here.\n",
    "square = lambda x: x * x\n",
    "cube = lambda x: x * x * x\n",
    "\n",
    "# Checkpoint 3 code goes here.\n",
    "test = odd_or_even(5, cube, square)\n",
    "\n",
    "print(test) # Uncomment the print function to see the results of Checkpoint 3.\n"
   ]
  },
  {
   "cell_type": "code",
   "execution_count": 1,
   "id": "5c8ce7d0",
   "metadata": {},
   "outputs": [
    {
     "name": "stdout",
     "output_type": "stream",
     "text": [
      "(16, 2, 22, 10, 16, 2, 26, 12, 20, 16, 6, 2, 12, 20)\n",
      "(48, 6, 57, 66, 30, 69, 48, 6, 81, 87, 57, 78, 36, 60, 48, 87, 18, 6, 36, 60)\n",
      "328\n"
     ]
    }
   ],
   "source": [
    "# HIGHER ORDER FUNCTIONS\n",
    "\n",
    "\n",
    "nums = (16, 2, 19, 22, 10, 23, 16, 2, 27, 29, 19, 26, 12, 20, 16, 29, 6, 2, 12, 20)\n",
    "\n",
    "# Checkpoint 1 code goes here.\n",
    "filtered_numbers = filter(lambda x: x % 2 == 0, nums)\n",
    "print(tuple(filtered_numbers))\n",
    "# Checkpoint 2 code goes here.\n",
    "mapped_numbers = map(lambda x: x * 3, nums)\n",
    "print(tuple(mapped_numbers))\n",
    "# Checkpoint 3 code goes here.\n",
    "from functools import reduce\n",
    "sum = reduce(lambda x,y: x + y, nums)\n",
    "print(sum)"
   ]
  },
  {
   "cell_type": "code",
   "execution_count": 1,
   "id": "53d262d5",
   "metadata": {},
   "outputs": [
    {
     "name": "stdout",
     "output_type": "stream",
     "text": [
      "(24, 32, 26, 38, 42, 30, 44, 40, 22)\n",
      "(36, 27, 9, 63, 45)\n"
     ]
    }
   ],
   "source": [
    "# MAPPING A FILTERED COLLECTION\n",
    "\n",
    "nums = (2, 12, 5, 8, 9, 3, 16, 7, 13, 19, 21, 1, 15, 4, 22, 20, 11)\n",
    "\n",
    "# Checkpoint 1 code goes here.\n",
    "\n",
    "greater_than_10_doubled = map(lambda a: a * 2, filter(lambda x: x > 10, nums))\n",
    "\n",
    "print(tuple(greater_than_10_doubled))\n",
    "\n",
    "# Checkpoint 2 code goes here.\n",
    "\n",
    "functional_way = map(lambda x: x * 3, filter(lambda d: d % 3== 0, nums))\n",
    "\n",
    "print(tuple(functional_way))"
   ]
  },
  {
   "cell_type": "code",
   "execution_count": 2,
   "id": "f3643e51",
   "metadata": {},
   "outputs": [
    {
     "name": "stdout",
     "output_type": "stream",
     "text": [
      "menu_item(name='Porter House Steak', dish_type='Entree', price=131.95)\n",
      "menu_item(name='Mixed Green Salad', dish_type='Salad', price=10.95)\n"
     ]
    }
   ],
   "source": [
    "# REDUCING A FILTERED COLLECTION\n",
    "\n",
    "from collections import namedtuple\n",
    "from functools import reduce\n",
    "\n",
    "# Prices are in USD\n",
    "menu_item = namedtuple(\"menu_item\", [\"name\", \"dish_type\", \"price\"])\n",
    "\n",
    "jsp = menu_item(\"Jumbo Shrimp Platter\", \"Appetizer\", 29.95)\n",
    "lc = menu_item(\"Lobster Cake\", \"Appetizer\", 30.95)\n",
    "scb = menu_item(\"Sizzling Canadian Bacon\", \"Appetizer\", 9.95)\n",
    "ccc = menu_item(\"Codecademy Crab Cake\", \"Appetizer\", 32.95)\n",
    "cs = menu_item(\"Caeser Salad\", \"Salad\", 14.95)\n",
    "mgs = menu_item(\"Mixed Green Salad\", \"Salad\", 10.95)\n",
    "cp = menu_item(\"Codecademy Potatoes\", \"Side\", 34.95)\n",
    "mp = menu_item(\"Mashed Potatoes\", \"Side\", 14.95)\n",
    "a = menu_item(\"Asparagus\", \"Side\", 15.95)\n",
    "rs = menu_item(\"Ribeye Steak\", \"Entree\", 75.95)\n",
    "phs = menu_item(\"Porter House Steak\", \"Entree\", 131.95)\n",
    "grs = menu_item(\"Grilled Salmon\", \"Entree\", 36.95)\n",
    "\n",
    "menu = (jsp, lc, scb, ccc, cs, mgs, cp, mp, a, rs, phs, grs)\n",
    "entree = 0\n",
    "least_expensive = 0\n",
    "\n",
    "# Code for Checkpoint 1 goes here.\n",
    "entree = reduce(lambda x,y: x if x.price > y.price else y, filter(lambda d: d.dish_type == \"Entree\", menu))\n",
    "print(entree)\n",
    "\n",
    "# Code for Checkpoint 2 goes here.\n",
    "least_expensive = reduce(lambda x,y: x if x.price < y.price else y, filter(lambda f: f.dish_type == \"Side\" or f.dish_type == \"Salad\", menu))\n",
    "print(least_expensive)"
   ]
  },
  {
   "cell_type": "code",
   "execution_count": 3,
   "id": "b41fdcfc",
   "metadata": {},
   "outputs": [
    {
     "name": "stdout",
     "output_type": "stream",
     "text": [
      "72\n"
     ]
    }
   ],
   "source": [
    "# REDUCING A MAPPED COLLECTION\n",
    "\n",
    "from functools import reduce\n",
    "\n",
    "fruits = {\"Grape\":(4, 6, 2), \"Lemon\":(7, 3, 1), \"Orange\":(5, 8, 1), \"Apple\":(2, 8, 10), \"Watermelon\":(0, 9, 6)}\n",
    "\n",
    "\n",
    "# Code for Checkpoint 1 goes here.\n",
    "\n",
    "total_fruits = reduce(lambda x,y: x + y, map(lambda d: fruits[d][0] + fruits[d][1] + fruits[d][2], fruits))\n",
    "\n",
    "print(total_fruits)"
   ]
  },
  {
   "cell_type": "code",
   "execution_count": 4,
   "id": "7327af77",
   "metadata": {},
   "outputs": [
    {
     "name": "stdout",
     "output_type": "stream",
     "text": [
      "460.0\n",
      "72648576\n"
     ]
    }
   ],
   "source": [
    "# COMBINING ALL THREE HIGHER-ORDER FUNCTIONS\n",
    "\n",
    "from functools import reduce\n",
    "\n",
    "costs = {\"shirt\": (4, 13.00), \"shoes\":(2, 80.00), \"pants\":(3, 100.00), \"socks\":(5, 5.00), \"ties\":(3, 14.00), \"watch\":(1, 145.00)}\n",
    "\n",
    "nums = (24, 6, 7, 16, 8, 2, 3, 11, 21, 20, 22, 23, 19, 12, 1, 4, 17, 9, 25, 15)\n",
    "\n",
    "# Code for Checkpoint 1 goes here.\n",
    "total = reduce(lambda x,y: x + y, filter(lambda c: c > 150, map(lambda f: costs[f][0]*costs[f][1], costs)))\n",
    "print(total)\n",
    "\n",
    "product = -1\n",
    "\n",
    "# Code for Checkpoint 2 goes here.\n",
    "product = reduce(lambda x,y: x * y, map(lambda x: x + 5, filter(lambda  g: g < 10, nums)) )\n",
    "print(product)"
   ]
  },
  {
   "cell_type": "code",
   "execution_count": 6,
   "id": "24f26b10",
   "metadata": {},
   "outputs": [
    {
     "name": "stdout",
     "output_type": "stream",
     "text": [
      "(tree(index=1, width=8.3, height=70, volume=10.3), tree(index=2, width=8.6, height=65, volume=10.3), tree(index=3, width=8.8, height=63, volume=10.2), tree(index=4, width=10.5, height=72, volume=16.4), tree(index=5, width=10.7, height=81, volume=18.8), tree(index=6, width=10.8, height=83, volume=19.7), tree(index=7, width=11.0, height=66, volume=15.6), tree(index=8, width=11.0, height=75, volume=18.2), tree(index=9, width=11.1, height=80, volume=22.6), tree(index=10, width=11.2, height=75, volume=19.9), tree(index=11, width=11.3, height=79, volume=24.2), tree(index=12, width=11.4, height=76, volume=21.0), tree(index=13, width=11.4, height=76, volume=21.4), tree(index=14, width=11.7, height=69, volume=21.3), tree(index=15, width=12.0, height=75, volume=19.1), tree(index=16, width=12.9, height=74, volume=22.2), tree(index=17, width=12.9, height=85, volume=33.8), tree(index=18, width=13.3, height=86, volume=27.4), tree(index=19, width=13.7, height=71, volume=25.7), tree(index=20, width=13.8, height=64, volume=24.9), tree(index=21, width=14.0, height=78, volume=34.5), tree(index=22, width=14.2, height=80, volume=31.7), tree(index=23, width=14.5, height=74, volume=36.3), tree(index=24, width=16.0, height=72, volume=38.3), tree(index=25, width=16.3, height=77, volume=42.6), tree(index=26, width=17.3, height=81, volume=55.4), tree(index=27, width=17.5, height=82, volume=55.7), tree(index=28, width=17.9, height=80, volume=58.3), tree(index=29, width=18.0, height=80, volume=51.5), tree(index=30, width=18.0, height=80, volume=51.0), tree(index=31, width=20.6, height=87, volume=77.0))\n"
     ]
    }
   ],
   "source": [
    "# IMPORTING DATA FROM A CSV FILE\n",
    "import csv\n",
    "from collections import namedtuple\n",
    "from functools import reduce\n",
    "\n",
    "# Code for Checkpoint 1 goes here.\n",
    "tree = namedtuple(\"tree\", [\"index\", \"width\", \"height\", \n",
    " \"volume\"])\n",
    "\n",
    "with open('data/trees.csv.txt', newline = '') as csvfile:\n",
    "  reader = csv.reader(csvfile, delimiter=',', quotechar='|')\n",
    "  next(reader) # Skip the first line in trees.csv that contains the data lablels.\n",
    "  # Code for Checkpoint 2 goes here.\n",
    "  mapper = map(lambda x: tree(int(x[0]), float(x[1]), int(x[2]), float(x[3])), reader)\n",
    "\n",
    "  \n",
    "  trees = tuple(mapper)\n",
    "  print(trees)"
   ]
  },
  {
   "cell_type": "code",
   "execution_count": 9,
   "id": "1c95e6ff",
   "metadata": {},
   "outputs": [
    {
     "name": "stdout",
     "output_type": "stream",
     "text": [
      "tree(index=31, width=20.6, height=87, volume=77.0)\n"
     ]
    }
   ],
   "source": [
    "# PROCESSING DATA FROM A CSV FILE\n",
    "\n",
    "import csv\n",
    "from collections import namedtuple\n",
    "from functools import reduce\n",
    "\n",
    "tree = namedtuple(\"tree\", [\"index\", \"width\", \"height\", \"volume\"]) \n",
    "\n",
    "with open('data/trees.csv.txt', newline = '') as csvfile:\n",
    "  reader = csv.reader(csvfile, delimiter=',', quotechar='|')\n",
    "  next(reader)\n",
    "  mapper = map(lambda x: tree(int(x[0]), float(x[1]), int(x[2]), float(x[3])), reader)\n",
    "  \n",
    "  # Checkpoint 1 code goes here.\n",
    "  t = filter(lambda b: b[2] > 75, mapper) \n",
    "  trees = tuple(t)\n",
    "  # Checkpoint 2 code goes here.\n",
    "  widest = reduce(lambda w, t: w if w.width > t.width else t, trees)\n",
    "\n",
    "  print(widest)"
   ]
  },
  {
   "cell_type": "code",
   "execution_count": 10,
   "id": "1bcc4fc2",
   "metadata": {},
   "outputs": [
    {
     "name": "stdout",
     "output_type": "stream",
     "text": [
      "(city(name='Beirut', country='Lebanon', coordinates=[33.8938, 35.5018], continent='Asia'), city(name='Dubai', country='United Arab Emirates', coordinates=[25.2048, 55.2708], continent='Asia'), city(name='Mumbai', country='India', coordinates=[19.076, 72.8777], continent='Asia'), city(name='Shanghai', country='China', coordinates=[31.2304, 121.4737], continent='Asia'), city(name='Osaka', country='Japan', coordinates=[34.6937, 135.5023], continent='Asia'))\n",
      "city(name='Beirut', country='Lebanon', coordinates=[33.8938, 35.5018], continent='Asia')\n"
     ]
    }
   ],
   "source": [
    "# PROCESSING DATA FROM A JSON FILE\n",
    "\n",
    "import json\n",
    "from collections import namedtuple\n",
    "from functools import reduce\n",
    "\n",
    "city = namedtuple(\"city\", [\"name\", \"country\", \"coordinates\", \"continent\"])\n",
    "\n",
    "with open('data/cities.json.txt') as json_file:\n",
    "  data = json.load(json_file) \n",
    "\n",
    "cities = map(lambda x: city(x[\"name\"], x[\"country\"], x[\"coordinates\"], x[\"continent\"]), data[\"city\"])\n",
    "\n",
    "# Code for Checkpoint 1 goes here.\n",
    "asia = tuple(filter(lambda x: x.continent == \"Asia\", cities))\n",
    "print(asia)\n",
    "\n",
    "west = reduce(lambda x ,y : x if x.coordinates[1] < y.coordinates[1] else y, asia)\n",
    "\n",
    "# Code for Checkpoint 2 goes here.\n",
    "\n",
    "print(west)"
   ]
  }
 ],
 "metadata": {
  "kernelspec": {
   "display_name": "Python 3",
   "language": "python",
   "name": "python3"
  },
  "language_info": {
   "codemirror_mode": {
    "name": "ipython",
    "version": 3
   },
   "file_extension": ".py",
   "mimetype": "text/x-python",
   "name": "python",
   "nbconvert_exporter": "python",
   "pygments_lexer": "ipython3",
   "version": "3.12.10"
  }
 },
 "nbformat": 4,
 "nbformat_minor": 5
}
